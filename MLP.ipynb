{
 "cells": [
  {
   "cell_type": "markdown",
   "metadata": {},
   "source": [
    "### Images Classification\n",
    "#### Multi-Layer Perceptron (MLP) / Neuron Nets\n",
    "\n",
    "[CIFAR-10](http://www.cs.toronto.edu/~kriz/cifar.html) is the dataset we are using for this assignment.\n"
   ]
  },
  {
   "cell_type": "code",
   "execution_count": 1,
   "metadata": {},
   "outputs": [],
   "source": [
    "import numpy as np\n",
    "import pandas as pd\n",
    "from tqdm.notebook import tqdm\n",
    "import matplotlib.pyplot as plt\n",
    "from sklearn.preprocessing import Normalizer\n",
    "from sklearn.model_selection import train_test_split"
   ]
  },
  {
   "cell_type": "markdown",
   "metadata": {},
   "source": [
    "### Read data"
   ]
  },
  {
   "cell_type": "code",
   "execution_count": 2,
   "metadata": {},
   "outputs": [],
   "source": [
    "def unpickle(file):\n",
    "    import pickle\n",
    "    with open(file, 'rb') as fo:\n",
    "        dict = pickle.load(fo, encoding='bytes')\n",
    "    return dict\n",
    "\n",
    "# X dim = 50000*3072\n",
    "# Y dim = 50000*1\n",
    "X = np.empty([0,3072])\n",
    "Y = np.empty([0,1])\n",
    "for i in range(1,6):\n",
    "    file = \"C:/Users/Donghan/Desktop/cifar-10-batches-py/data_batch_{}\".format(i)\n",
    "    dicts = unpickle(file)\n",
    "    X = np.append(X, dicts[b'data'], axis = 0)\n",
    "    Y = np.append(Y, np.expand_dims(dicts[b'labels'], axis = 1), axis = 0)\n",
    "# print(X)\n",
    "X = np.asarray(X)\n",
    "Y = np.asarray(Y)\n",
    "\n",
    "file_test = \"C:/Users/Donghan/Desktop/cifar-10-batches-py/test_batch\"\n",
    "X_test = unpickle(file_test)[b'data']\n",
    "Y_test = unpickle(file_test)[b'labels']"
   ]
  },
  {
   "cell_type": "markdown",
   "metadata": {},
   "source": [
    "### Activation function for forward and backward layer\n",
    "\n",
    "Options:\n",
    "* sigmoid\n",
    "* relu\n",
    "* leaky_relu\n",
    "* softmax\n",
    "\n",
    "Others are not supported yet"
   ]
  },
  {
   "cell_type": "code",
   "execution_count": 3,
   "metadata": {},
   "outputs": [],
   "source": [
    "def sigmoid(Z):\n",
    "    return 1/(1 + np.exp(-Z))\n",
    "\n",
    "def relu(Z):\n",
    "    return np.maximum(0,Z)\n",
    "\n",
    "def leaky_relu(Z):\n",
    "    return np.where(Z > 0, Z, Z * 0.01)\n",
    "    \n",
    "def leaky_relu_back(dl, Z, alpha=0.01):\n",
    "    dx = np.ones_like(Z)\n",
    "    dx[Z < 0] = alpha\n",
    "    return dx*dl\n",
    "    \n",
    "def sigmoid_back(dA, Z):\n",
    "    return dA * sigmoid(Z) * (1 - sigmoid(Z))\n",
    "\n",
    "def relu_back(dA, Z):\n",
    "    dZ = np.array(dA, copy = True)\n",
    "    np.squeeze(dZ)[np.squeeze(Z) <= 0] = 0;\n",
    "    return dZ\n",
    "\n",
    "def logsumexp(Z):    \n",
    "    Zmax = np.max(Z,axis=1)[:, None]    \n",
    "    lse = Zmax + np.log(np.sum(np.exp(Z - Zmax), axis=1))[:, None]    \n",
    "    return lse #N    \n",
    "\n",
    "def softmax(\n",
    "    u, # N x C\n",
    "    ):\n",
    "    u_exp = np.exp(u - np.max(u, 1)[:, None])\n",
    "    return u_exp / np.sum(u_exp, axis=-1)[:, None]\n",
    "\n",
    "def softmax_back(dA, u):\n",
    "    return dA * softmax(u) * (1-softmax(u))"
   ]
  },
  {
   "cell_type": "code",
   "execution_count": 4,
   "metadata": {},
   "outputs": [],
   "source": [
    "def gradients(X,#N x D              \n",
    "              Y,#N x K              \n",
    "              W,#M x K               \n",
    "              V,#D x M             \n",
    "             ):\n",
    "    Z = logistic(np.dot(X, V))#N x M  \n",
    "    N,D = X.shape    \n",
    "    Yh = softmax(np.dot(Z, W))#N x K    \n",
    "    dY = Yh - Y #N x K\n",
    "    dW= np.dot(Z.T, dY)/N #M x K   \n",
    "    dZ = np.dot(dY, W.T) #N x M    \n",
    "    dV = np.dot(X.T, dZ * Z * (1 - Z))/N #D x M \n",
    "    return dW, dV"
   ]
  },
  {
   "cell_type": "code",
   "execution_count": 5,
   "metadata": {},
   "outputs": [],
   "source": [
    "def GD(X, Y, M, lr=.1, eps=1e-9, max_iters=100000):\n",
    "    N, D = X.shape\n",
    "    N,K = Y.shape\n",
    "    W = np.random.randn(M, K)*.01\n",
    "    V = np.random.randn(D, M)*.01\n",
    "    dW = np.inf*np.ones_like(W)\n",
    "    t = 0\n",
    "    while np.linalg.norm(dW) > eps and t < max_iters:\n",
    "        dW, dV = gradients(X, Y, W, V)        \n",
    "        W = W - lr*dW       \n",
    "        V = V - lr*dV\n",
    "        t+=1\n",
    "    return W,V"
   ]
  },
  {
   "cell_type": "markdown",
   "metadata": {},
   "source": [
    "### Neuron Network\n",
    "#### Initialize the layer dimension and weights, bias\n",
    "\n",
    "Weight Initialization technique refers to [Delving Deep into Rectifiers:\n",
    "Surpassing Human-Level Performance on ImageNet Classification\n",
    "](https://arxiv.org/pdf/1502.01852.pdf)\n",
    "\n",
    "![](https://miro.medium.com/max/1400/1*zxD6Nr6TyAb8JEG6oXAjkg.png)\n",
    "\n",
    "* Speed up training\n",
    "* Avoid gradient vanishing/exploding (No zero/inf in the computation)"
   ]
  },
  {
   "cell_type": "code",
   "execution_count": 6,
   "metadata": {},
   "outputs": [],
   "source": [
    "def init_layers(input_dim, out_dim, batch_size):\n",
    "    return np.random.randn(\n",
    "            input_dim, out_dim) * np.sqrt(2/out_dim), np.zeros(out_dim)\n",
    "\n",
    "def init_weight_bias(layer_dim):\n",
    "    W = []\n",
    "    b = []\n",
    "    for i in layer_dim:\n",
    "        weight, bias = init_layers(i[0],i[1],batch_size)\n",
    "        W.append(weight)\n",
    "        b.append(bias)\n",
    "    return W, b"
   ]
  },
  {
   "cell_type": "markdown",
   "metadata": {},
   "source": [
    "### Forward Pass"
   ]
  },
  {
   "cell_type": "code",
   "execution_count": 7,
   "metadata": {},
   "outputs": [],
   "source": [
    "class Forward_layers:\n",
    "    '''\n",
    "    First forward layer:\n",
    "    A_prev = X\n",
    "    '''    \n",
    "    def __init__(self, layer):\n",
    "        self.W = layer[\"weights\"]\n",
    "        self.b = layer[\"bias\"]\n",
    "        self.activation = layer[\"activations\"]\n",
    "        self.layer_dim = layer[\"layer_dim\"]\n",
    "        self.num_layer = len(self.layer_dim)\n",
    "        \n",
    "    def fit(self, A_prev, W, b, activation):\n",
    "        Z_curr = np.dot(A_prev, W) + b\n",
    "\n",
    "        if activation == \"relu\":\n",
    "            activation = relu\n",
    "        elif activation == \"sigmoid\":\n",
    "            activation = sigmoid\n",
    "        elif activation == \"leaky_relu\":\n",
    "            activation = leaky_relu\n",
    "        elif activation == \"softmax\":\n",
    "            activation = softmax\n",
    "        else:\n",
    "            print(\"This activation function is not supported\")\n",
    "            return\n",
    "            \n",
    "        return activation(Z_curr), Z_curr\n",
    "    \n",
    "    def forward(self, X):\n",
    "        memory_A = []\n",
    "        memory_Z = []\n",
    "        A_curr = X\n",
    "        # Loop over the all layers and update the Y_h/A_curr for each layer\n",
    "        for i in range(self.num_layer):\n",
    "            A_prev = A_curr\n",
    "            if i == self.num_layer - 1:\n",
    "                # A_curr is also Y_h\n",
    "                A_curr, Z_curr = self.fit(A_prev, self.W[-1], self.b[-1], self.activation[-1])\n",
    "            else:\n",
    "                A_curr, Z_curr = self.fit(A_prev, self.W[i], self.b[i], self.activation[i])\n",
    "\n",
    "            memory_A.append(A_prev)\n",
    "            memory_Z.append(Z_curr)\n",
    "            \n",
    "        return A_curr, Z_curr, memory_A, memory_Z"
   ]
  },
  {
   "cell_type": "markdown",
   "metadata": {},
   "source": [
    "### Backward Pass"
   ]
  },
  {
   "cell_type": "code",
   "execution_count": 8,
   "metadata": {},
   "outputs": [],
   "source": [
    "class Backward_layers:\n",
    "    def __init__(self,layer):\n",
    "        self.activation = layer[\"activations\"]\n",
    "        self.layer_dim = layer[\"layer_dim\"]\n",
    "        self.num_layer = len(self.layer_dim)\n",
    "    \n",
    "    def fit(self, dA_curr, W_curr, b_curr, Z_curr, A_prev, activation_back):\n",
    "        N,D = A_prev.shape\n",
    "\n",
    "        if activation_back == \"relu\":\n",
    "            activation_back = relu_back\n",
    "        elif activation_back == \"sigmoid\":\n",
    "            activation_back = sigmoid_back\n",
    "        elif activation_back == \"leaky_relu\":\n",
    "            activation_back = leaky_relu_back\n",
    "        elif activation_back == \"softmax\":\n",
    "            activation_back = softmax_back\n",
    "        else:\n",
    "            raise ValueError(\"This activation function is not supported\")\n",
    "        \n",
    "        # Get the gradient\n",
    "        dZ_curr = activation_back(dA_curr, Z_curr)\n",
    "        dW_curr = np.dot(A_prev.T, dZ_curr) / N\n",
    "        db_curr = np.sum(dZ_curr.T, axis=1) / N\n",
    "        dA_prev = np.dot(dZ_curr, W_curr.T)\n",
    "        \n",
    "        return dA_prev, dW_curr, db_curr\n",
    "    \n",
    "    def backward(self, Y_h, Y,memory_W, memory_b, memory_A, memory_Z):\n",
    "        if np.count_nonzero(Y_h) == 0:\n",
    "            print (Y_h)\n",
    "        dA_prev = - (np.divide(Y, Y_h) - np.divide(1 - Y, 1 - Y_h))\n",
    "        gradient_W = []\n",
    "        gradient_b = []\n",
    "        # Loop backward to get the gradient for each layer\n",
    "        for i in range(self.num_layer):\n",
    "            # Since backward layer, loop from the last element in the memory list\n",
    "            dA_curr = dA_prev\n",
    "            W_curr = memory_W[-i-1]\n",
    "            b_curr = memory_b[-i-1]\n",
    "            Z_curr = memory_Z[-i-1]\n",
    "            A_prev = memory_A[-i-1]\n",
    "            # Same as above\n",
    "            if i == 0:\n",
    "                dA_prev, dW_curr, db_curr = self.fit(dA_curr, W_curr, \\\n",
    "                                                    b_curr, Z_curr, A_prev, self.activation[-1])\n",
    "            else:\n",
    "                dA_prev, dW_curr, db_curr = self.fit(dA_curr, W_curr, \\\n",
    "                                                    b_curr, Z_curr, A_prev, self.activation[-i-1])\n",
    "            gradient_W.append(dW_curr)\n",
    "            gradient_b.append(db_curr)\n",
    "        return gradient_W, gradient_b"
   ]
  },
  {
   "cell_type": "markdown",
   "metadata": {},
   "source": [
    "## ANN - The Combination of Forward and Backward layers\n",
    "\n",
    "**Dataflow and General Procedure:**\n",
    "\n",
    "1. Initialize the ***weight and bias*** by given of the predefined layer dimension\n",
    "2. Input feature ***data*** and ***labels***\n",
    "3. Forward the data in ***Forward layers***\n",
    "4. Obtain the ***Y_hat and memories of Y_hat*** for previous forward layers\n",
    "5. Pass the memories of Y_hat and initialized weight and bias into backward layer for ***backparagation***\n",
    "6. ***Update the weight and bias*** by the calculated gradients (use gradient descent)\n",
    "7. ***Loop*** over all the mini-batches\n",
    "\n",
    "### Methods\n",
    "\n",
    "* **fit(X,Y)** - Train the model by given of X/input, Y/labels\n",
    "\n",
    "* **predict(X)** - Get the prediction class by given of X\n",
    "\n",
    "* **predict_prob(X)** - Get the prediction probabilities by given of X\n",
    "\n",
    "* **score(X,Y)** - Return the accuracy score by given of X/input, Y/labels\n",
    "\n",
    "* **cost(X,Y)** - Cross-entropy cost function, return the prediction-true loss\n",
    "\n",
    "### Attributes\n",
    "\n",
    "* **attributes()** - Return the Weight, Bias, Layer_dim, Activation for the current neuron net\n",
    "\n",
    "### Options\n",
    "\n",
    "* **clip_gradient** - Clip the gradient by defined minimum and maximum value"
   ]
  },
  {
   "cell_type": "code",
   "execution_count": 9,
   "metadata": {},
   "outputs": [],
   "source": [
    "class ANN(Forward_layers, Backward_layers):\n",
    "    def __init__(self, layer, clip_gradient_value = None):\n",
    "        super().__init__(layer)\n",
    "        self.layer = layer\n",
    "        self.clip_gradient_value = clip_gradient_value\n",
    "    \n",
    "    def fit(self, X, Y):\n",
    "        forward = Forward_layers(self.layer)\n",
    "        A_curr, Z_curr, memory_A, memory_Z = forward.forward(X)\n",
    "        Y_h = A_curr\n",
    "        backward = Backward_layers(self.layer)\n",
    "        gradient_W, gradient_b = backward.backward(Y_h, Y,memory_W, memory_b, memory_A, memory_Z)\n",
    "        for i in range(len(self.layer_dim)):\n",
    "            if self.clip_gradient_value is not None:\n",
    "                self.layer[\"weights\"][-i-1] -= lr*np.clip(gradient_W[i],-self.clip_gradient_value, self.clip_gradient_value) \n",
    "                self.layer[\"bias\"][-i-1] -= lr*np.clip(gradient_b[i],-self.clip_gradient_value, self.clip_gradient_value) \n",
    "            else:\n",
    "                self.layer[\"weights\"][-i-1] -= lr*gradient_W[i]  \n",
    "                self.layer[\"bias\"][-i-1] -= lr*gradient_b[i]\n",
    "        \n",
    "    def forward(self, X):\n",
    "        forward = Forward_layers(self.layer)\n",
    "        A_curr, _,_,_ = forward.forward(X)\n",
    "        return A_curr\n",
    "    \n",
    "    def predict(self, X):\n",
    "        '''Return probabilities of class'''\n",
    "        Y_h_prob = self.forward(X)\n",
    "        return np.where(softmax(Y_h_prob) >= np.expand_dims(np.max(softmax(Y_h_prob), \\\n",
    "                                                                   axis = 1), axis = 1), 1, 0)\n",
    "    \n",
    "    def predict_prob(self, X):\n",
    "        return self.forward(X)\n",
    "    \n",
    "    def attributes(self):\n",
    "        return dict(zip([\"Weight\",\"Bias\",\"Layer_dim\",\"Activation\"],[self.layer[\"weights\"],\\\n",
    "                                                                    self.layer[\"bias\"],\\\n",
    "                                                                    self.layer[\"layer_dim\"],\\\n",
    "                                                                    self.layer[\"activations\"]]))\n",
    "    def score(self, X, Y):\n",
    "        Y_h_prob = self.forward(X)\n",
    "        Y_h_class = np.where(softmax(Y_h_prob) >= np.expand_dims(np.max(softmax(Y_h_prob), \\\n",
    "                                                                        axis = 1), axis = 1), 1, 0)\n",
    "        return np.mean([True if (Y_h_class[i] == Y[i]).all() else False for i in range(len(Y))])\n",
    "    \n",
    "    def cost(self, X, Y):\n",
    "        Y_h_prob = self.forward(X)\n",
    "        nll = - np.mean(np.sum(Y_h_prob*Y, 1) - logsumexp(Y_h_prob))\n",
    "        return nll"
   ]
  },
  {
   "cell_type": "markdown",
   "metadata": {},
   "source": [
    "### Preprocessing: Normalize image data\n",
    "* speed up training (rescales the values into a range of [0,1])\n",
    "* higher accuracy - lower loss"
   ]
  },
  {
   "cell_type": "code",
   "execution_count": 10,
   "metadata": {
    "scrolled": true
   },
   "outputs": [],
   "source": [
    "norm = Normalizer()\n",
    "Y = np.array(pd.get_dummies(np.squeeze(Y)))\n",
    "X = norm.fit_transform(X)\n",
    "\n",
    "X_test = norm.fit_transform(X_test)\n",
    "Y_test = np.array(pd.get_dummies(np.squeeze(Y_test)))"
   ]
  },
  {
   "cell_type": "markdown",
   "metadata": {},
   "source": [
    "### Prepare dataset for training\n",
    "\n",
    "Stochastic gradient descent mini-batch"
   ]
  },
  {
   "cell_type": "code",
   "execution_count": 11,
   "metadata": {},
   "outputs": [],
   "source": [
    "def next_batch(X, Y, batch_size):\n",
    "    for i in np.arange(0, X.shape[0], batch_size):\n",
    "        # Avoid last batch != batch_size\n",
    "        if X[i:i + batch_size].shape[0] == batch_size:\n",
    "            yield (X[i:i + batch_size], Y[i:i + batch_size])"
   ]
  },
  {
   "cell_type": "markdown",
   "metadata": {},
   "source": [
    "### Train the NN\n",
    "#### Take 2 hidden layers as example \n",
    "\n",
    "* Initialize weight, bias and define *layer* \n",
    "* Initialize *batch_size*, *epochs*, and *lr/learning_rate*\n",
    "* Initialize Neuron Net (ANN)\n",
    "* Split input data to training and validation dataset\n",
    "* Loop/training start"
   ]
  },
  {
   "cell_type": "code",
   "execution_count": 12,
   "metadata": {},
   "outputs": [
    {
     "data": {
      "application/vnd.jupyter.widget-view+json": {
       "model_id": "d229b61309524a83b268ead095273acc",
       "version_major": 2,
       "version_minor": 0
      },
      "text/plain": [
       "HBox(children=(FloatProgress(value=0.0, max=4000.0), HTML(value='')))"
      ]
     },
     "metadata": {},
     "output_type": "display_data"
    },
    {
     "name": "stdout",
     "output_type": "stream",
     "text": [
      "Step 0, Minibatch Loss= 2.2992, Training Accuracy= 0.147\n",
      "Validation: Step 0, Minibatch Loss= 2.2963, Validation Accuracy= 0.182\n",
      "Step 50, Minibatch Loss= 2.1884, Training Accuracy= 0.380\n",
      "Validation: Step 50, Minibatch Loss= 2.1934, Validation Accuracy= 0.361\n",
      "Step 100, Minibatch Loss= 2.1584, Training Accuracy= 0.413\n",
      "Validation: Step 100, Minibatch Loss= 2.1657, Validation Accuracy= 0.388\n",
      "Step 150, Minibatch Loss= 2.1374, Training Accuracy= 0.438\n",
      "Validation: Step 150, Minibatch Loss= 2.1468, Validation Accuracy= 0.411\n",
      "Step 200, Minibatch Loss= 2.1188, Training Accuracy= 0.458\n",
      "Validation: Step 200, Minibatch Loss= 2.1307, Validation Accuracy= 0.426\n",
      "Step 250, Minibatch Loss= 2.1024, Training Accuracy= 0.477\n",
      "Validation: Step 250, Minibatch Loss= 2.1167, Validation Accuracy= 0.438\n",
      "Step 300, Minibatch Loss= 2.0876, Training Accuracy= 0.492\n",
      "Validation: Step 300, Minibatch Loss= 2.1044, Validation Accuracy= 0.449\n",
      "Step 350, Minibatch Loss= 2.0743, Training Accuracy= 0.506\n",
      "Validation: Step 350, Minibatch Loss= 2.0938, Validation Accuracy= 0.456\n",
      "Step 400, Minibatch Loss= 2.0619, Training Accuracy= 0.519\n",
      "Validation: Step 400, Minibatch Loss= 2.0843, Validation Accuracy= 0.462\n",
      "Step 450, Minibatch Loss= 2.0504, Training Accuracy= 0.531\n",
      "Validation: Step 450, Minibatch Loss= 2.0758, Validation Accuracy= 0.472\n",
      "Step 500, Minibatch Loss= 2.0396, Training Accuracy= 0.542\n",
      "Validation: Step 500, Minibatch Loss= 2.0683, Validation Accuracy= 0.478\n",
      "Step 550, Minibatch Loss= 2.0294, Training Accuracy= 0.551\n",
      "Validation: Step 550, Minibatch Loss= 2.0616, Validation Accuracy= 0.482\n",
      "Step 600, Minibatch Loss= 2.0197, Training Accuracy= 0.561\n",
      "Validation: Step 600, Minibatch Loss= 2.0555, Validation Accuracy= 0.487\n",
      "Step 650, Minibatch Loss= 2.0104, Training Accuracy= 0.570\n",
      "Validation: Step 650, Minibatch Loss= 2.0500, Validation Accuracy= 0.492\n",
      "Step 700, Minibatch Loss= 2.0014, Training Accuracy= 0.579\n",
      "Validation: Step 700, Minibatch Loss= 2.0448, Validation Accuracy= 0.498\n",
      "Step 750, Minibatch Loss= 1.9927, Training Accuracy= 0.588\n",
      "Validation: Step 750, Minibatch Loss= 2.0399, Validation Accuracy= 0.502\n",
      "Step 800, Minibatch Loss= 1.9843, Training Accuracy= 0.596\n",
      "Validation: Step 800, Minibatch Loss= 2.0356, Validation Accuracy= 0.503\n",
      "Step 850, Minibatch Loss= 1.9760, Training Accuracy= 0.605\n",
      "Validation: Step 850, Minibatch Loss= 2.0316, Validation Accuracy= 0.505\n",
      "Step 900, Minibatch Loss= 1.9679, Training Accuracy= 0.614\n",
      "Validation: Step 900, Minibatch Loss= 2.0277, Validation Accuracy= 0.509\n",
      "Step 950, Minibatch Loss= 1.9599, Training Accuracy= 0.622\n",
      "Validation: Step 950, Minibatch Loss= 2.0243, Validation Accuracy= 0.510\n",
      "Step 1000, Minibatch Loss= 1.9521, Training Accuracy= 0.629\n",
      "Validation: Step 1000, Minibatch Loss= 2.0212, Validation Accuracy= 0.513\n",
      "Step 1050, Minibatch Loss= 1.9444, Training Accuracy= 0.637\n",
      "Validation: Step 1050, Minibatch Loss= 2.0185, Validation Accuracy= 0.514\n",
      "Step 1100, Minibatch Loss= 1.9369, Training Accuracy= 0.645\n",
      "Validation: Step 1100, Minibatch Loss= 2.0158, Validation Accuracy= 0.513\n",
      "Step 1150, Minibatch Loss= 1.9296, Training Accuracy= 0.653\n",
      "Validation: Step 1150, Minibatch Loss= 2.0133, Validation Accuracy= 0.513\n",
      "Step 1200, Minibatch Loss= 1.9223, Training Accuracy= 0.660\n",
      "Validation: Step 1200, Minibatch Loss= 2.0109, Validation Accuracy= 0.513\n",
      "Step 1250, Minibatch Loss= 1.9152, Training Accuracy= 0.667\n",
      "Validation: Step 1250, Minibatch Loss= 2.0085, Validation Accuracy= 0.512\n",
      "Step 1300, Minibatch Loss= 1.9083, Training Accuracy= 0.672\n",
      "Validation: Step 1300, Minibatch Loss= 2.0065, Validation Accuracy= 0.513\n",
      "Step 1350, Minibatch Loss= 1.9018, Training Accuracy= 0.678\n",
      "Validation: Step 1350, Minibatch Loss= 2.0051, Validation Accuracy= 0.514\n",
      "Step 1400, Minibatch Loss= 1.8957, Training Accuracy= 0.683\n",
      "Validation: Step 1400, Minibatch Loss= 2.0048, Validation Accuracy= 0.517\n",
      "Step 1450, Minibatch Loss= 1.8896, Training Accuracy= 0.687\n",
      "Validation: Step 1450, Minibatch Loss= 2.0030, Validation Accuracy= 0.516\n",
      "Step 1500, Minibatch Loss= 1.8832, Training Accuracy= 0.694\n",
      "Validation: Step 1500, Minibatch Loss= 1.9976, Validation Accuracy= 0.514\n",
      "Step 1550, Minibatch Loss= 1.8772, Training Accuracy= 0.697\n",
      "Validation: Step 1550, Minibatch Loss= 1.9988, Validation Accuracy= 0.516\n",
      "Step 1600, Minibatch Loss= 1.8716, Training Accuracy= 0.702\n",
      "Validation: Step 1600, Minibatch Loss= 1.9970, Validation Accuracy= 0.515\n",
      "Step 1650, Minibatch Loss= 1.8644, Training Accuracy= 0.710\n",
      "Validation: Step 1650, Minibatch Loss= 1.9950, Validation Accuracy= 0.515\n",
      "Step 1700, Minibatch Loss= 1.8597, Training Accuracy= 0.713\n",
      "Validation: Step 1700, Minibatch Loss= 1.9944, Validation Accuracy= 0.513\n",
      "Step 1750, Minibatch Loss= 1.8533, Training Accuracy= 0.720\n",
      "Validation: Step 1750, Minibatch Loss= 1.9932, Validation Accuracy= 0.514\n",
      "Step 1800, Minibatch Loss= 1.8466, Training Accuracy= 0.727\n",
      "Validation: Step 1800, Minibatch Loss= 1.9919, Validation Accuracy= 0.512\n",
      "Step 1850, Minibatch Loss= 1.8428, Training Accuracy= 0.727\n",
      "Validation: Step 1850, Minibatch Loss= 1.9899, Validation Accuracy= 0.512\n",
      "Step 1900, Minibatch Loss= 1.8368, Training Accuracy= 0.733\n",
      "Validation: Step 1900, Minibatch Loss= 1.9869, Validation Accuracy= 0.512\n",
      "Step 1950, Minibatch Loss= 1.8298, Training Accuracy= 0.742\n",
      "Validation: Step 1950, Minibatch Loss= 1.9870, Validation Accuracy= 0.509\n",
      "Step 2000, Minibatch Loss= 1.8272, Training Accuracy= 0.740\n",
      "Validation: Step 2000, Minibatch Loss= 1.9871, Validation Accuracy= 0.509\n",
      "Step 2050, Minibatch Loss= 1.8220, Training Accuracy= 0.745\n",
      "Validation: Step 2050, Minibatch Loss= 1.9862, Validation Accuracy= 0.507\n",
      "Step 2100, Minibatch Loss= 1.8149, Training Accuracy= 0.752\n",
      "Validation: Step 2100, Minibatch Loss= 1.9870, Validation Accuracy= 0.506\n",
      "Step 2150, Minibatch Loss= 1.8100, Training Accuracy= 0.758\n",
      "Validation: Step 2150, Minibatch Loss= 1.9880, Validation Accuracy= 0.504\n",
      "Step 2200, Minibatch Loss= 1.8060, Training Accuracy= 0.759\n",
      "Validation: Step 2200, Minibatch Loss= 1.9857, Validation Accuracy= 0.504\n",
      "Step 2250, Minibatch Loss= 1.7992, Training Accuracy= 0.766\n",
      "Validation: Step 2250, Minibatch Loss= 1.9834, Validation Accuracy= 0.504\n",
      "Step 2300, Minibatch Loss= 1.7936, Training Accuracy= 0.772\n",
      "Validation: Step 2300, Minibatch Loss= 1.9859, Validation Accuracy= 0.498\n",
      "Step 2350, Minibatch Loss= 1.7928, Training Accuracy= 0.770\n",
      "Validation: Step 2350, Minibatch Loss= 1.9856, Validation Accuracy= 0.498\n",
      "Step 2400, Minibatch Loss= 1.7862, Training Accuracy= 0.776\n",
      "Validation: Step 2400, Minibatch Loss= 1.9855, Validation Accuracy= 0.498\n",
      "Step 2450, Minibatch Loss= 1.7821, Training Accuracy= 0.779\n",
      "Validation: Step 2450, Minibatch Loss= 1.9857, Validation Accuracy= 0.494\n",
      "Step 2500, Minibatch Loss= 1.7798, Training Accuracy= 0.777\n",
      "Validation: Step 2500, Minibatch Loss= 1.9800, Validation Accuracy= 0.501\n",
      "Step 2550, Minibatch Loss= 1.7725, Training Accuracy= 0.786\n",
      "Validation: Step 2550, Minibatch Loss= 1.9814, Validation Accuracy= 0.498\n",
      "Step 2600, Minibatch Loss= 1.7676, Training Accuracy= 0.792\n",
      "Validation: Step 2600, Minibatch Loss= 1.9815, Validation Accuracy= 0.495\n",
      "Step 2650, Minibatch Loss= 1.7614, Training Accuracy= 0.798\n",
      "Validation: Step 2650, Minibatch Loss= 1.9795, Validation Accuracy= 0.497\n",
      "Step 2700, Minibatch Loss= 1.7595, Training Accuracy= 0.795\n",
      "Validation: Step 2700, Minibatch Loss= 1.9852, Validation Accuracy= 0.488\n",
      "Step 2750, Minibatch Loss= 1.7567, Training Accuracy= 0.797\n",
      "Validation: Step 2750, Minibatch Loss= 1.9848, Validation Accuracy= 0.491\n",
      "Step 2800, Minibatch Loss= 1.7487, Training Accuracy= 0.806\n",
      "Validation: Step 2800, Minibatch Loss= 1.9814, Validation Accuracy= 0.490\n",
      "Step 2850, Minibatch Loss= 1.7451, Training Accuracy= 0.807\n",
      "Validation: Step 2850, Minibatch Loss= 1.9840, Validation Accuracy= 0.489\n",
      "Step 2900, Minibatch Loss= 1.7463, Training Accuracy= 0.806\n",
      "Validation: Step 2900, Minibatch Loss= 1.9933, Validation Accuracy= 0.479\n",
      "Step 2950, Minibatch Loss= 1.7345, Training Accuracy= 0.819\n",
      "Validation: Step 2950, Minibatch Loss= 1.9780, Validation Accuracy= 0.496\n",
      "Step 3000, Minibatch Loss= 1.7285, Training Accuracy= 0.824\n",
      "Validation: Step 3000, Minibatch Loss= 1.9800, Validation Accuracy= 0.496\n",
      "Step 3050, Minibatch Loss= 1.7323, Training Accuracy= 0.818\n",
      "Validation: Step 3050, Minibatch Loss= 1.9774, Validation Accuracy= 0.499\n"
     ]
    },
    {
     "name": "stdout",
     "output_type": "stream",
     "text": [
      "Step 3100, Minibatch Loss= 1.7267, Training Accuracy= 0.821\n",
      "Validation: Step 3100, Minibatch Loss= 1.9783, Validation Accuracy= 0.494\n",
      "Step 3150, Minibatch Loss= 1.7221, Training Accuracy= 0.826\n",
      "Validation: Step 3150, Minibatch Loss= 1.9784, Validation Accuracy= 0.494\n",
      "Step 3200, Minibatch Loss= 1.7215, Training Accuracy= 0.825\n",
      "Validation: Step 3200, Minibatch Loss= 1.9789, Validation Accuracy= 0.494\n",
      "Step 3250, Minibatch Loss= 1.7133, Training Accuracy= 0.833\n",
      "Validation: Step 3250, Minibatch Loss= 1.9823, Validation Accuracy= 0.481\n",
      "Step 3300, Minibatch Loss= 1.7083, Training Accuracy= 0.839\n",
      "Validation: Step 3300, Minibatch Loss= 1.9769, Validation Accuracy= 0.495\n",
      "Step 3350, Minibatch Loss= 1.7096, Training Accuracy= 0.835\n",
      "Validation: Step 3350, Minibatch Loss= 1.9781, Validation Accuracy= 0.493\n",
      "Step 3400, Minibatch Loss= 1.7023, Training Accuracy= 0.842\n",
      "Validation: Step 3400, Minibatch Loss= 1.9777, Validation Accuracy= 0.490\n",
      "Step 3450, Minibatch Loss= 1.6960, Training Accuracy= 0.850\n",
      "Validation: Step 3450, Minibatch Loss= 1.9801, Validation Accuracy= 0.489\n",
      "Step 3500, Minibatch Loss= 1.6950, Training Accuracy= 0.849\n",
      "Validation: Step 3500, Minibatch Loss= 1.9815, Validation Accuracy= 0.489\n",
      "Step 3550, Minibatch Loss= 1.6882, Training Accuracy= 0.857\n",
      "Validation: Step 3550, Minibatch Loss= 1.9761, Validation Accuracy= 0.496\n",
      "Step 3600, Minibatch Loss= 1.6897, Training Accuracy= 0.852\n",
      "Validation: Step 3600, Minibatch Loss= 1.9792, Validation Accuracy= 0.488\n",
      "Step 3650, Minibatch Loss= 1.6779, Training Accuracy= 0.864\n",
      "Validation: Step 3650, Minibatch Loss= 1.9770, Validation Accuracy= 0.490\n",
      "Step 3700, Minibatch Loss= 1.6748, Training Accuracy= 0.869\n",
      "Validation: Step 3700, Minibatch Loss= 1.9780, Validation Accuracy= 0.492\n",
      "Step 3750, Minibatch Loss= 1.6721, Training Accuracy= 0.868\n",
      "Validation: Step 3750, Minibatch Loss= 1.9802, Validation Accuracy= 0.486\n",
      "Step 3800, Minibatch Loss= 1.6681, Training Accuracy= 0.872\n",
      "Validation: Step 3800, Minibatch Loss= 1.9767, Validation Accuracy= 0.491\n",
      "Step 3850, Minibatch Loss= 1.6684, Training Accuracy= 0.871\n",
      "Validation: Step 3850, Minibatch Loss= 1.9818, Validation Accuracy= 0.484\n",
      "Step 3900, Minibatch Loss= 1.6785, Training Accuracy= 0.856\n",
      "Validation: Step 3900, Minibatch Loss= 1.9754, Validation Accuracy= 0.488\n",
      "Step 3950, Minibatch Loss= 1.6582, Training Accuracy= 0.881\n",
      "Validation: Step 3950, Minibatch Loss= 1.9763, Validation Accuracy= 0.488\n",
      "\n",
      "Optimization Finished!\n"
     ]
    }
   ],
   "source": [
    "# Batch size, epochs, and learning rate\n",
    "batch_size = 256\n",
    "epochs = 4000\n",
    "lr = 0.01\n",
    "\n",
    "# Layers init\n",
    "layer_dim = [[3072,169],[169,64],[64,10]]\n",
    "memory_W, memory_b = init_weight_bias(layer_dim)\n",
    "\n",
    "# Take 2 hidden layers as example\n",
    "layer = {\"layer_dim\":layer_dim,\n",
    "         \"activations\":[\"relu\",\"relu\",\"relu\",\"softmax\"],\n",
    "         \"weights\":memory_W, \"bias\":memory_b}\n",
    "\n",
    "\n",
    "# Training-val dataset split\n",
    "X_train, X_val, y_train, y_val = train_test_split(X, Y, test_size=0.1, random_state=42, shuffle = True)\n",
    "\n",
    "# loss, accuracy lists\n",
    "losses_train = []\n",
    "losses_val = []\n",
    "accuracies_train = []\n",
    "accuracies_val = []\n",
    "\n",
    "# Init neuron net\n",
    "model = ANN(layer)\n",
    "#Option: clip_gradient = *5\n",
    "\n",
    "# Training start\n",
    "for epoch in tqdm(range(epochs)):\n",
    "        loss_train = []\n",
    "        acc_train = []\n",
    "        for batch_X, batch_Y in next_batch(X_train, y_train, batch_size):\n",
    "            model.fit(batch_X, batch_Y)\n",
    "\n",
    "            # Training loss, accuracy\n",
    "            loss_train.append(model.cost(batch_X, batch_Y))\n",
    "            acc_train.append(model.score(batch_X,batch_Y))\n",
    "\n",
    "        # Average losses, accuracy\n",
    "        losses_train.append(np.mean(loss_train))\n",
    "        accuracies_train.append(np.mean(acc_train))\n",
    "        \n",
    "        # Validation loss, accuracy\n",
    "        losses_val.append(model.cost(X_val, y_val))\n",
    "        accuracies_val.append(model.score(X_val, y_val))\n",
    "        \n",
    "        # Print loss, accuracy every 100 epochs\n",
    "        if epoch % 50 == 0:\n",
    "            print(\"Step \" + str(epoch) + \", Minibatch Loss= \" + \\\n",
    "                      \"{:.4f}\".format(np.mean(loss_train)) + \", Training Accuracy= \" + \\\n",
    "                      \"{:.3f}\".format(np.mean(acc_train)))\n",
    "            print(\"Validation: \" + \"Step \" + str(epoch) + \", Minibatch Loss= \" + \\\n",
    "                      \"{:.4f}\".format(losses_val[-1]) + \", Validation Accuracy= \" + \\\n",
    "                      \"{:.3f}\".format(accuracies_val[-1]))\n",
    "print(\"Optimization Finished!\")\n",
    "losses = {\"losses_train\":losses_train, \"losses_val\":losses_val}\n",
    "accuracies = {\"accuracies_train\":accuracies_train, \"accuracies_val\":accuracies_val}"
   ]
  },
  {
   "cell_type": "markdown",
   "metadata": {},
   "source": [
    "### Overall test accuracy"
   ]
  },
  {
   "cell_type": "code",
   "execution_count": 13,
   "metadata": {},
   "outputs": [
    {
     "data": {
      "text/plain": [
       "0.4824"
      ]
     },
     "execution_count": 13,
     "metadata": {},
     "output_type": "execute_result"
    }
   ],
   "source": [
    "model.score(X_test, Y_test)"
   ]
  },
  {
   "cell_type": "markdown",
   "metadata": {},
   "source": [
    "### By class test accuracy"
   ]
  },
  {
   "cell_type": "code",
   "execution_count": 14,
   "metadata": {},
   "outputs": [
    {
     "name": "stdout",
     "output_type": "stream",
     "text": [
      "Accuracy of plane : 48 %\n",
      "Accuracy of   car : 49 %\n",
      "Accuracy of  bird : 46 %\n",
      "Accuracy of   cat : 49 %\n",
      "Accuracy of  deer : 48 %\n",
      "Accuracy of   dog : 47 %\n",
      "Accuracy of  frog : 46 %\n",
      "Accuracy of horse : 49 %\n",
      "Accuracy of  ship : 50 %\n",
      "Accuracy of truck : 47 %\n"
     ]
    }
   ],
   "source": [
    "classes = ('plane', 'car', 'bird', 'cat',\n",
    "           'deer', 'dog', 'frog', 'horse', 'ship', 'truck')\n",
    "\n",
    "Y_test_class = dicts[b'labels']\n",
    "class_correct = list(0. for i in range(10))\n",
    "class_total = list(0. for i in range(10))\n",
    "\n",
    "for i in range(0, X_test.shape[0], 4):\n",
    "    images = X_test[i:i+4]\n",
    "    labels = Y_test[i:i+4]\n",
    "    predicted = model.predict(images)\n",
    "    labels_class = Y_test_class[i:i+4]\n",
    "    for j in range(4):\n",
    "        label = labels_class[j]\n",
    "        class_correct[label] += (predicted[j] == labels[j]).all()\n",
    "        class_total[label] += 1\n",
    "            \n",
    "\n",
    "for i in range(10):\n",
    "    print('Accuracy of %5s : %2d %%' % (\n",
    "        classes[i], 100 * (class_correct[i]) / class_total[i]))"
   ]
  },
  {
   "cell_type": "markdown",
   "metadata": {},
   "source": [
    "### Accuracy, Loss plot"
   ]
  },
  {
   "cell_type": "code",
   "execution_count": 15,
   "metadata": {
    "scrolled": true
   },
   "outputs": [
    {
     "data": {
      "image/png": "[encoded data removed]",
      "text/plain": [
       "<Figure size 432x288 with 1 Axes>"
      ]
     },
     "metadata": {
      "needs_background": "light"
     },
     "output_type": "display_data"
    }
   ],
   "source": [
    "plt.plot(accuracies[\"accuracies_val\"])\n",
    "plt.plot(accuracies[\"accuracies_train\"])\n",
    "plt.legend([\"Acc_Val\", \"Acc_Train\"])\n",
    "plt.show()"
   ]
  },
  {
   "cell_type": "code",
   "execution_count": 16,
   "metadata": {},
   "outputs": [
    {
     "data": {
      "image/png": "[encoded data removed]",
      "text/plain": [
       "<Figure size 432x288 with 1 Axes>"
      ]
     },
     "metadata": {
      "needs_background": "light"
     },
     "output_type": "display_data"
    }
   ],
   "source": [
    "plt.plot(losses[\"losses_val\"])\n",
    "plt.plot(losses[\"losses_train\"])\n",
    "plt.legend([\"Loss_Val\", \"Loss_Train\"])\n",
    "plt.show()"
   ]
  },
  {
   "cell_type": "code",
   "execution_count": null,
   "metadata": {},
   "outputs": [],
   "source": []
  }
 ],
 "metadata": {
  "kernelspec": {
   "display_name": "Python 3",
   "language": "python",
   "name": "python3"
  },
  "language_info": {
   "codemirror_mode": {
    "name": "ipython",
    "version": 3
   },
   "file_extension": ".py",
   "mimetype": "text/x-python",
   "name": "python",
   "nbconvert_exporter": "python",
   "pygments_lexer": "ipython3",
   "version": "3.6.8"
  }
 },
 "nbformat": 4,
 "nbformat_minor": 2
}
